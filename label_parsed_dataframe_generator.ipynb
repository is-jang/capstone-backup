{
 "cells": [
  {
   "cell_type": "code",
   "execution_count": 16,
   "metadata": {},
   "outputs": [],
   "source": [
    "import pandas as pd\n",
    "import re\n",
    "import os"
   ]
  },
  {
   "cell_type": "code",
   "execution_count": 17,
   "metadata": {},
   "outputs": [],
   "source": [
    "def getLabelDataframe(path):\n",
    "    folderNames = os.listdir(path)\n",
    "    folderNames = [folderName for folderName in folderNames if \"[원천]\" in folderName]\n",
    "    \n",
    "    df = pd.DataFrame()\n",
    "\n",
    "    for folderName in folderNames:\n",
    "        fileNames = os.listdir(os.path.join(path, folderName))\n",
    "        label = []\n",
    "        for fileName in fileNames:\n",
    "            label.append(fileName.split('.')[0])\n",
    "\n",
    "        folderFileNames = [os.path.join(folderName, fileName) for fileName in fileNames]\n",
    "        df_one = pd.DataFrame({'source': folderFileNames, 'label': label})\n",
    "        df = pd.concat([df, df_one])\n",
    "    \n",
    "    return df"
   ]
  },
  {
   "cell_type": "code",
   "execution_count": 18,
   "metadata": {},
   "outputs": [],
   "source": [
    "train_df = getLabelDataframe('./Training')\n",
    "test_df = getLabelDataframe('./Validation')"
   ]
  },
  {
   "cell_type": "code",
   "execution_count": 19,
   "metadata": {},
   "outputs": [],
   "source": [
    "train_df.to_csv(\"./train.csv\", index=False)\n",
    "test_df.to_csv(\"./test.csv\", index=False)"
   ]
  }
 ],
 "metadata": {
  "kernelspec": {
   "display_name": "jis",
   "language": "python",
   "name": "python3"
  },
  "language_info": {
   "codemirror_mode": {
    "name": "ipython",
    "version": 3
   },
   "file_extension": ".py",
   "mimetype": "text/x-python",
   "name": "python",
   "nbconvert_exporter": "python",
   "pygments_lexer": "ipython3",
   "version": "3.11.5"
  }
 },
 "nbformat": 4,
 "nbformat_minor": 2
}
